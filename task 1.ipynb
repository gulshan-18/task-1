{
 "cells": [
  {
   "cell_type": "markdown",
   "metadata": {},
   "source": [
    "TASK 1"
   ]
  },
  {
   "cell_type": "code",
   "execution_count": null,
   "metadata": {},
   "outputs": [],
   "source": [
    "NAME : GULSHAN BHAIYAJI"
   ]
  },
  {
   "cell_type": "code",
   "execution_count": null,
   "metadata": {},
   "outputs": [],
   "source": [
    "PROJECT NAME :"Predict the percentage of an student based on the no. of study hours." 
   ]
  },
  {
   "cell_type": "code",
   "execution_count": 1,
   "metadata": {},
   "outputs": [],
   "source": [
    "import pandas as pd\n",
    "import numpy as np\n",
    "import matplotlib.pyplot as plt\n",
    "import seaborn as snb"
   ]
  },
  {
   "cell_type": "code",
   "execution_count": 2,
   "metadata": {},
   "outputs": [
    {
     "name": "stdout",
     "output_type": "stream",
     "text": [
      "Data imported successfully\n"
     ]
    }
   ],
   "source": [
    "url = \"https://raw.githubusercontent.com/AdiPersonalWorks/Random/master/student_scores%20-%20student_scores.csv\"\n",
    "df = pd.read_csv(url)\n",
    "print(\"Data imported successfully\")"
   ]
  },
  {
   "cell_type": "code",
   "execution_count": 3,
   "metadata": {},
   "outputs": [
    {
     "data": {
      "text/html": [
       "<div>\n",
       "<style scoped>\n",
       "    .dataframe tbody tr th:only-of-type {\n",
       "        vertical-align: middle;\n",
       "    }\n",
       "\n",
       "    .dataframe tbody tr th {\n",
       "        vertical-align: top;\n",
       "    }\n",
       "\n",
       "    .dataframe thead th {\n",
       "        text-align: right;\n",
       "    }\n",
       "</style>\n",
       "<table border=\"1\" class=\"dataframe\">\n",
       "  <thead>\n",
       "    <tr style=\"text-align: right;\">\n",
       "      <th></th>\n",
       "      <th>Hours</th>\n",
       "      <th>Scores</th>\n",
       "    </tr>\n",
       "  </thead>\n",
       "  <tbody>\n",
       "    <tr>\n",
       "      <th>6</th>\n",
       "      <td>9.2</td>\n",
       "      <td>88</td>\n",
       "    </tr>\n",
       "    <tr>\n",
       "      <th>22</th>\n",
       "      <td>3.8</td>\n",
       "      <td>35</td>\n",
       "    </tr>\n",
       "    <tr>\n",
       "      <th>14</th>\n",
       "      <td>1.1</td>\n",
       "      <td>17</td>\n",
       "    </tr>\n",
       "    <tr>\n",
       "      <th>23</th>\n",
       "      <td>6.9</td>\n",
       "      <td>76</td>\n",
       "    </tr>\n",
       "    <tr>\n",
       "      <th>1</th>\n",
       "      <td>5.1</td>\n",
       "      <td>47</td>\n",
       "    </tr>\n",
       "  </tbody>\n",
       "</table>\n",
       "</div>"
      ],
      "text/plain": [
       "    Hours  Scores\n",
       "6     9.2      88\n",
       "22    3.8      35\n",
       "14    1.1      17\n",
       "23    6.9      76\n",
       "1     5.1      47"
      ]
     },
     "execution_count": 3,
     "metadata": {},
     "output_type": "execute_result"
    }
   ],
   "source": [
    "df.sample(5)"
   ]
  },
  {
   "cell_type": "code",
   "execution_count": 4,
   "metadata": {},
   "outputs": [
    {
     "data": {
      "text/plain": [
       "Hours     0\n",
       "Scores    0\n",
       "dtype: int64"
      ]
     },
     "execution_count": 4,
     "metadata": {},
     "output_type": "execute_result"
    }
   ],
   "source": [
    "df.isna().sum()"
   ]
  },
  {
   "cell_type": "code",
   "execution_count": 5,
   "metadata": {},
   "outputs": [
    {
     "data": {
      "text/html": [
       "<div>\n",
       "<style scoped>\n",
       "    .dataframe tbody tr th:only-of-type {\n",
       "        vertical-align: middle;\n",
       "    }\n",
       "\n",
       "    .dataframe tbody tr th {\n",
       "        vertical-align: top;\n",
       "    }\n",
       "\n",
       "    .dataframe thead th {\n",
       "        text-align: right;\n",
       "    }\n",
       "</style>\n",
       "<table border=\"1\" class=\"dataframe\">\n",
       "  <thead>\n",
       "    <tr style=\"text-align: right;\">\n",
       "      <th></th>\n",
       "      <th>Hours</th>\n",
       "      <th>Scores</th>\n",
       "    </tr>\n",
       "  </thead>\n",
       "  <tbody>\n",
       "    <tr>\n",
       "      <th>count</th>\n",
       "      <td>25.000000</td>\n",
       "      <td>25.000000</td>\n",
       "    </tr>\n",
       "    <tr>\n",
       "      <th>mean</th>\n",
       "      <td>5.012000</td>\n",
       "      <td>51.480000</td>\n",
       "    </tr>\n",
       "    <tr>\n",
       "      <th>std</th>\n",
       "      <td>2.525094</td>\n",
       "      <td>25.286887</td>\n",
       "    </tr>\n",
       "    <tr>\n",
       "      <th>min</th>\n",
       "      <td>1.100000</td>\n",
       "      <td>17.000000</td>\n",
       "    </tr>\n",
       "    <tr>\n",
       "      <th>25%</th>\n",
       "      <td>2.700000</td>\n",
       "      <td>30.000000</td>\n",
       "    </tr>\n",
       "    <tr>\n",
       "      <th>50%</th>\n",
       "      <td>4.800000</td>\n",
       "      <td>47.000000</td>\n",
       "    </tr>\n",
       "    <tr>\n",
       "      <th>75%</th>\n",
       "      <td>7.400000</td>\n",
       "      <td>75.000000</td>\n",
       "    </tr>\n",
       "    <tr>\n",
       "      <th>max</th>\n",
       "      <td>9.200000</td>\n",
       "      <td>95.000000</td>\n",
       "    </tr>\n",
       "  </tbody>\n",
       "</table>\n",
       "</div>"
      ],
      "text/plain": [
       "           Hours     Scores\n",
       "count  25.000000  25.000000\n",
       "mean    5.012000  51.480000\n",
       "std     2.525094  25.286887\n",
       "min     1.100000  17.000000\n",
       "25%     2.700000  30.000000\n",
       "50%     4.800000  47.000000\n",
       "75%     7.400000  75.000000\n",
       "max     9.200000  95.000000"
      ]
     },
     "execution_count": 5,
     "metadata": {},
     "output_type": "execute_result"
    }
   ],
   "source": [
    "df.describe()"
   ]
  },
  {
   "cell_type": "code",
   "execution_count": 6,
   "metadata": {},
   "outputs": [
    {
     "data": {
      "image/png": "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\n",
      "text/plain": [
       "<Figure size 432x288 with 1 Axes>"
      ]
     },
     "metadata": {
      "needs_background": "light"
     },
     "output_type": "display_data"
    }
   ],
   "source": [
    "df.plot(x='Hours', y='Scores', style='o')  \n",
    "plt.title('Hours vs Percentage')  \n",
    "plt.xlabel('Hours Studied')  \n",
    "plt.ylabel('Percentage Score')  \n",
    "plt.show()"
   ]
  },
  {
   "cell_type": "code",
   "execution_count": 7,
   "metadata": {},
   "outputs": [],
   "source": [
    "X = df.iloc[:, :-1].values  \n",
    "y = df.iloc[:, 1].values"
   ]
  },
  {
   "cell_type": "code",
   "execution_count": 8,
   "metadata": {},
   "outputs": [
    {
     "name": "stdout",
     "output_type": "stream",
     "text": [
      "0.9535420431309685\n"
     ]
    }
   ],
   "source": [
    "from sklearn.model_selection import train_test_split \n",
    "from sklearn.linear_model import LinearRegression \n",
    "X = df.iloc[:, :-1].values\n",
    "y = df.iloc[:, 1].values  \n",
    "X_train, X_test, y_train, y_test = train_test_split(X, y, test_size = 0.25) \n",
    "\n",
    "regr = LinearRegression() \n",
    "  \n",
    "regr.fit(X_train, y_train) \n",
    "print(regr.score(X_test, y_test))"
   ]
  },
  {
   "cell_type": "code",
   "execution_count": 9,
   "metadata": {},
   "outputs": [
    {
     "data": {
      "image/png": "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\n",
      "text/plain": [
       "<Figure size 432x288 with 1 Axes>"
      ]
     },
     "metadata": {
      "needs_background": "light"
     },
     "output_type": "display_data"
    }
   ],
   "source": [
    "line = regr.coef_*X+regr.intercept_\n",
    "\n",
    "# Plotting for the test data\n",
    "plt.scatter(X, y)\n",
    "plt.plot(X, line);\n",
    "plt.show()"
   ]
  },
  {
   "cell_type": "code",
   "execution_count": 10,
   "metadata": {},
   "outputs": [
    {
     "data": {
      "image/png": "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\n",
      "text/plain": [
       "<Figure size 432x288 with 1 Axes>"
      ]
     },
     "metadata": {
      "needs_background": "light"
     },
     "output_type": "display_data"
    }
   ],
   "source": [
    "y_pred = regr.predict(X_test) \n",
    "plt.scatter(X_test, y_test, color ='b') \n",
    "plt.plot(X_test, y_pred, color ='k') \n",
    "\n",
    "plt.show()"
   ]
  },
  {
   "cell_type": "code",
   "execution_count": 11,
   "metadata": {},
   "outputs": [
    {
     "data": {
      "text/html": [
       "<div>\n",
       "<style scoped>\n",
       "    .dataframe tbody tr th:only-of-type {\n",
       "        vertical-align: middle;\n",
       "    }\n",
       "\n",
       "    .dataframe tbody tr th {\n",
       "        vertical-align: top;\n",
       "    }\n",
       "\n",
       "    .dataframe thead th {\n",
       "        text-align: right;\n",
       "    }\n",
       "</style>\n",
       "<table border=\"1\" class=\"dataframe\">\n",
       "  <thead>\n",
       "    <tr style=\"text-align: right;\">\n",
       "      <th></th>\n",
       "      <th>Actual</th>\n",
       "      <th>Predicted</th>\n",
       "    </tr>\n",
       "  </thead>\n",
       "  <tbody>\n",
       "    <tr>\n",
       "      <th>0</th>\n",
       "      <td>41</td>\n",
       "      <td>46.482346</td>\n",
       "    </tr>\n",
       "    <tr>\n",
       "      <th>1</th>\n",
       "      <td>62</td>\n",
       "      <td>60.103041</td>\n",
       "    </tr>\n",
       "    <tr>\n",
       "      <th>2</th>\n",
       "      <td>24</td>\n",
       "      <td>21.186771</td>\n",
       "    </tr>\n",
       "    <tr>\n",
       "      <th>3</th>\n",
       "      <td>42</td>\n",
       "      <td>34.807466</td>\n",
       "    </tr>\n",
       "    <tr>\n",
       "      <th>4</th>\n",
       "      <td>69</td>\n",
       "      <td>74.696642</td>\n",
       "    </tr>\n",
       "    <tr>\n",
       "      <th>5</th>\n",
       "      <td>21</td>\n",
       "      <td>27.024212</td>\n",
       "    </tr>\n",
       "    <tr>\n",
       "      <th>6</th>\n",
       "      <td>95</td>\n",
       "      <td>89.290243</td>\n",
       "    </tr>\n",
       "  </tbody>\n",
       "</table>\n",
       "</div>"
      ],
      "text/plain": [
       "   Actual  Predicted\n",
       "0      41  46.482346\n",
       "1      62  60.103041\n",
       "2      24  21.186771\n",
       "3      42  34.807466\n",
       "4      69  74.696642\n",
       "5      21  27.024212\n",
       "6      95  89.290243"
      ]
     },
     "execution_count": 11,
     "metadata": {},
     "output_type": "execute_result"
    }
   ],
   "source": [
    "df_compare = pd.DataFrame({'Actual': y_test, 'Predicted': y_pred},)  \n",
    "df_compare"
   ]
  },
  {
   "cell_type": "code",
   "execution_count": 12,
   "metadata": {},
   "outputs": [
    {
     "name": "stdout",
     "output_type": "stream",
     "text": [
      "No of Hours = [[9.25]]\n",
      "Predicted Score = 92.69541612821769\n"
     ]
    }
   ],
   "source": [
    "hours = [[9.25]]\n",
    "own_pred = regr.predict(hours)\n",
    "print(\"No of Hours = {}\".format(hours))\n",
    "print(\"Predicted Score = {}\".format(own_pred[0]))"
   ]
  }
 ],
 "metadata": {
  "kernelspec": {
   "display_name": "Python 3",
   "language": "python",
   "name": "python3"
  },
  "language_info": {
   "codemirror_mode": {
    "name": "ipython",
    "version": 3
   },
   "file_extension": ".py",
   "mimetype": "text/x-python",
   "name": "python",
   "nbconvert_exporter": "python",
   "pygments_lexer": "ipython3",
   "version": "3.7.3"
  }
 },
 "nbformat": 4,
 "nbformat_minor": 2
}
